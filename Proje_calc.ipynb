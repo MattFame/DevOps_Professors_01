{
 "cells": [
  {
   "cell_type": "code",
   "execution_count": 35,
   "metadata": {},
   "outputs": [
    {
     "name": "stdout",
     "output_type": "stream",
     "text": [
      "Please chose your operation :\n",
      "1.addition\n",
      "2.substraction\n",
      "3.Multiplication\n",
      "4.Division\n",
      "5.Fibonacci number up to your number\n",
      "6.Summation of integers that are divided by 3 or 5 up to your number(inclusive)\n",
      "\n",
      "3\n",
      "Welcome to calculator:\n",
      "\n",
      "Please enter your first number : 23\n",
      "Please enter your second number : 12\n",
      "\n",
      "The result of multiplication is 276\n"
     ]
    }
   ],
   "source": [
    "c = int(input('''Please chose your operation :\\n1.addition\\n2.substraction\n",
    "3.Multiplication\\n4.Division\\n5.Fibonacci number up to your number\n",
    "6.Summation of integers that are divided by 3 or 5 up to your number(inclusive)\\n\\n'''))\n",
    "if c < 5:\n",
    "    a = int(input(\"Welcome to calculator:\\n\\nPlease enter your first number : \"))\n",
    "    b = int(input(\"Please enter your second number : \"))\n",
    "    result = {1:a+b,2:a-b,3:a*b,4:a/b}\n",
    "    operations = {1: 'multiplication',\n",
    "              2: 'substraction',\n",
    "              3: 'multiplication',\n",
    "              4: 'division'\n",
    "     }\n",
    "\n",
    "    print('\\nThe result of {} is {}'.format(operations[c],result[c]))\n",
    "    \n",
    "elif c == 5:\n",
    "    d = int(input(\"Please enter your number between 10 and 10.000 : \"))\n",
    "    x = [1,1]\n",
    "    for i in range(d):\n",
    "        if x[i]+x[i+1] > d: break\n",
    "        x.append(x[i]+x[i+1])\n",
    "    print('Finocci numbers up to {} are {}'.format(d, x))\n",
    "\n",
    "elif c == 6 :\n",
    "    f = int(input(\"Please enter your number : \"))\n",
    "    B = sum(set(range(0,int(f)+1,3))| set(range(0,int(f)+1,5)))\n",
    "    print('Summation of integers that divided by 3 or 5 up to {}(inclusive) are {}'.format(f, B))\n",
    "     \n",
    "else:\n",
    "       print('Please enter valid number')\n",
    "          "
   ]
  },
  {
   "cell_type": "code",
   "execution_count": 21,
   "metadata": {},
   "outputs": [
    {
     "data": {
      "text/plain": [
       "753"
      ]
     },
     "execution_count": 21,
     "metadata": {},
     "output_type": "execute_result"
    }
   ],
   "source": [
    "A = 56\n",
    "E = sum(set(range(0,57,3))|set(range(0,57,5)))\n",
    "\n",
    "E"
   ]
  },
  {
   "cell_type": "code",
   "execution_count": 19,
   "metadata": {},
   "outputs": [
    {
     "data": {
      "text/plain": [
       "40"
      ]
     },
     "execution_count": 19,
     "metadata": {},
     "output_type": "execute_result"
    }
   ],
   "source": []
  },
  {
   "cell_type": "code",
   "execution_count": null,
   "metadata": {},
   "outputs": [],
   "source": []
  },
  {
   "cell_type": "code",
   "execution_count": null,
   "metadata": {},
   "outputs": [],
   "source": []
  },
  {
   "cell_type": "code",
   "execution_count": null,
   "metadata": {},
   "outputs": [],
   "source": []
  },
  {
   "cell_type": "code",
   "execution_count": null,
   "metadata": {},
   "outputs": [],
   "source": []
  }
 ],
 "metadata": {
  "file_extension": ".py",
  "kernelspec": {
   "display_name": "Python 3.8.2 64-bit",
   "language": "python",
   "name": "python38264bit3f4bc9d21b0a470cb598dcfc81df52f4"
  },
  "language_info": {
   "codemirror_mode": {
    "name": "ipython",
    "version": 3
   },
   "file_extension": ".py",
   "mimetype": "text/x-python",
   "name": "python",
   "nbconvert_exporter": "python",
   "pygments_lexer": "ipython3",
   "version": "3.8.2"
  },
  "mimetype": "text/x-python",
  "name": "python",
  "npconvert_exporter": "python",
  "pygments_lexer": "ipython3",
  "version": 3
 },
 "nbformat": 4,
 "nbformat_minor": 2
}
